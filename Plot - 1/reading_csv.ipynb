{
    "cells": [
        {
            "cell_type": "markdown",
            "metadata": {},
            "source": [
                "# How to import a csv file in Python"
            ]
        },
        {
            "cell_type": "code",
            "execution_count": 2,
            "metadata": {},
            "outputs": [
                {
                    "name": "stderr",
                    "output_type": "stream",
                    "text": [
                        "Matplotlib is building the font cache; this may take a moment.\n"
                    ]
                }
            ],
            "source": [
                "import matplotlib.pyplot as plt\n",
                "import pandas as pd"
            ]
        },
        {
            "cell_type": "markdown",
            "metadata": {},
            "source": [
                "## Importing a csv database w/ Pandas lib"
            ]
        },
        {
            "cell_type": "code",
            "execution_count": 3,
            "metadata": {},
            "outputs": [],
            "source": [
                "df_unemployement = pd.read_csv(\"./desemprego.csv\")\n",
                "plt.style.use('default')"
            ]
        },
        {
            "cell_type": "markdown",
            "metadata": {},
            "source": [
                "### Dataframe properties:\n",
                " - Dataframe.index: List of all indexes of the Dataframe\n",
                " - Dataframe.columns: List of all column's labels of the Dataframe\n",
                " - Dataframe.ndim: Get the dataframe dimension."
            ]
        },
        {
            "cell_type": "code",
            "execution_count": 4,
            "metadata": {},
            "outputs": [
                {
                    "name": "stdout",
                    "output_type": "stream",
                    "text": [
                        "0\n",
                        "1\n",
                        "2\n",
                        "3\n",
                        "4\n",
                        "5\n",
                        "6\n",
                        "7\n",
                        "8\n",
                        "9\n",
                        "10\n",
                        "11\n",
                        "12\n",
                        "13\n",
                        "14\n",
                        "15\n",
                        "16\n",
                        "17\n",
                        "18\n",
                        "19\n",
                        "20\n",
                        "21\n",
                        "22\n",
                        "23\n",
                        "24\n",
                        "25\n",
                        "26\n",
                        "27\n",
                        "28\n",
                        "29\n",
                        "30\n",
                        "31\n",
                        "32\n",
                        "33\n",
                        "34\n",
                        "35\n",
                        "36\n",
                        "ID\n",
                        "Trimestre\n",
                        "Homens\n",
                        "Mulheres\n",
                        "Total\n"
                    ]
                }
            ],
            "source": [
                "for x in df_unemployement.index:\n",
                "  print(x)\n",
                "\n",
                "for x in df_unemployement.columns:\n",
                "  print(x)\n",
                "\n",
                "n_dimension = df_unemployement.ndim"
            ]
        },
        {
            "cell_type": "markdown",
            "metadata": {},
            "source": [
                "## Drawing a area plot"
            ]
        },
        {
            "cell_type": "markdown",
            "metadata": {},
            "source": [
                "Filtering the column \"Trimestre\""
            ]
        },
        {
            "cell_type": "code",
            "execution_count": 5,
            "metadata": {},
            "outputs": [],
            "source": [
                "df_unemployement.Trimestre = df_unemployement.Trimestre.apply(lambda row: row[-4:])\n",
                "df_unemployement = df_unemployement.rename(columns={'Trimestre':'Ano'})"
            ]
        },
        {
            "cell_type": "markdown",
            "metadata": {},
            "source": [
                "Dataframe.plot.area( x, y, stacked)\n",
                "- x : By default, it'll be all columns;\n",
                "- y : By default, it'll be all rows;\n",
                "- Stacked: By default, it'll be true. It's define if the area will be stacked;"
            ]
        },
        {
            "cell_type": "code",
            "execution_count": 6,
            "metadata": {},
            "outputs": [
                {
                    "data": {
                        "text/plain": [
                            "<AxesSubplot:xlabel='Ano'>"
                        ]
                    },
                    "execution_count": 6,
                    "metadata": {},
                    "output_type": "execute_result"
                },
                {
                    "data": {
                        "image/png": "[encoded data removed]",
                        "text/plain": [
                            "<Figure size 432x288 with 1 Axes>"
                        ]
                    },
                    "metadata": {
                        "needs_background": "light"
                    },
                    "output_type": "display_data"
                }
            ],
            "source": [
                "df_unemployement.plot.area(x='Ano', y=[\"Mulheres\", \"Homens\"], stacked = False)"
            ]
        },
        {
            "cell_type": "code",
            "execution_count": 7,
            "metadata": {},
            "outputs": [],
            "source": [
                "df_unemployement = df_unemployement.drop(columns={'ID'})"
            ]
        },
        {
            "cell_type": "markdown",
            "metadata": {},
            "source": [
                "## Drawing a boxplot"
            ]
        },
        {
            "cell_type": "code",
            "execution_count": 8,
            "metadata": {},
            "outputs": [
                {
                    "data": {
                        "text/plain": [
                            "<AxesSubplot:>"
                        ]
                    },
                    "execution_count": 8,
                    "metadata": {},
                    "output_type": "execute_result"
                },
                {
                    "data": {
                        "image/png": "[encoded data removed]",
                        "text/plain": [
                            "<Figure size 432x288 with 1 Axes>"
                        ]
                    },
                    "metadata": {
                        "needs_background": "light"
                    },
                    "output_type": "display_data"
                }
            ],
            "source": [
                "df_unemployement.boxplot(column=['Homens', 'Mulheres'], fontsize=14)"
            ]
        }
    ],
    "metadata": {
        "kernelspec": {
            "display_name": "Python 3.10.5 64-bit",
            "language": "python",
            "name": "python3"
        },
        "language_info": {
            "codemirror_mode": {
                "name": "ipython",
                "version": 3
            },
            "file_extension": ".py",
            "mimetype": "text/x-python",
            "name": "python",
            "nbconvert_exporter": "python",
            "pygments_lexer": "ipython3",
            "version": "3.10.5"
        },
        "orig_nbformat": 4,
        "vscode": {
            "interpreter": {
                "hash": "e7370f93d1d0cde622a1f8e1c04877d8463912d04d973331ad4851f04de6915a"
            }
        }
    },
    "nbformat": 4,
    "nbformat_minor": 2
}
