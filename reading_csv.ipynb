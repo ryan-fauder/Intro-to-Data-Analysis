{
    "cells": [
        {
            "cell_type": "markdown",
            "source": [
                "# How to import a csv file in Python"
            ],
            "metadata": {}
        },
        {
            "cell_type": "code",
            "execution_count": null,
            "source": [
                "import matplotlib.pyplot as plt\n",
                "import pandas as pd"
            ],
            "outputs": [],
            "metadata": {}
        },
        {
            "cell_type": "markdown",
            "source": [
                "## Importing a csv database w/ Pandas lib"
            ],
            "metadata": {}
        },
        {
            "cell_type": "code",
            "execution_count": null,
            "source": [
                "df_unemployement = pd.read_csv(\"./desemprego.csv\")\n",
                "plt.style.use('default')"
            ],
            "outputs": [],
            "metadata": {}
        },
        {
            "cell_type": "markdown",
            "source": [
                "### Dataframe properties:\n",
                " - Dataframe.index: List of all indexes of the Dataframe\n",
                " - Dataframe.columns: List of all column's labels of the Dataframe\n",
                " - Dataframe.ndim: Get the dataframe dimension."
            ],
            "metadata": {}
        },
        {
            "cell_type": "code",
            "execution_count": null,
            "source": [
                "for x in df_unemployement.index:\n",
                "  print(x)\n",
                "\n",
                "for x in df_unemployement.columns:\n",
                "  print(x)\n",
                "\n",
                "n_dimension = df_unemployement.ndim"
            ],
            "outputs": [],
            "metadata": {}
        },
        {
            "cell_type": "markdown",
            "source": [
                "## Drawing a area plot"
            ],
            "metadata": {}
        },
        {
            "cell_type": "markdown",
            "source": [
                "Filtering the column \"Trimestre\""
            ],
            "metadata": {}
        },
        {
            "cell_type": "code",
            "execution_count": null,
            "source": [
                "df_unemployement.Trimestre = df_unemployement.Trimestre.apply(lambda row: row[-4:])\n",
                "df_unemployement = df_unemployement.rename(columns={'Trimestre':'Ano'})"
            ],
            "outputs": [],
            "metadata": {}
        },
        {
            "cell_type": "markdown",
            "source": [
                "Dataframe.plot.area( x, y, stacked)\n",
                "- x : By default, it'll be all columns;\n",
                "- y : By default, it'll be all rows;\n",
                "- Stacked: By default, it'll be true. It's define if the area will be stacked;"
            ],
            "metadata": {}
        },
        {
            "cell_type": "code",
            "execution_count": null,
            "source": [
                "df_unemployement.plot.area(x='Ano', y=[\"Mulheres\", \"Homens\"], stacked = False)"
            ],
            "outputs": [],
            "metadata": {}
        },
        {
            "cell_type": "code",
            "execution_count": null,
            "source": [
                "df_unemployement = df_unemployement.drop(columns={'ID'})"
            ],
            "outputs": [],
            "metadata": {}
        },
        {
            "cell_type": "markdown",
            "source": [
                "## Drawing a boxplot"
            ],
            "metadata": {}
        },
        {
            "cell_type": "code",
            "execution_count": null,
            "source": [
                "df_unemployement.boxplot(column=['Homens', 'Mulheres'], fontsize=14)"
            ],
            "outputs": [],
            "metadata": {}
        }
    ],
    "metadata": {
        "orig_nbformat": 4,
        "language_info": {
            "name": "python",
            "version": "3.8.10",
            "mimetype": "text/x-python",
            "codemirror_mode": {
                "name": "ipython",
                "version": 3
            },
            "pygments_lexer": "ipython3",
            "nbconvert_exporter": "python",
            "file_extension": ".py"
        },
        "kernelspec": {
            "name": "python3",
            "display_name": "Python 3.8.10 64-bit"
        },
        "interpreter": {
            "hash": "916dbcbb3f70747c44a77c7bcd40155683ae19c65e1c03b4aa3499c5328201f1"
        }
    },
    "nbformat": 4,
    "nbformat_minor": 2
}